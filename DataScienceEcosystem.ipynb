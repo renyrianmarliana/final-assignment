{
 "cells": [
  {
   "cell_type": "markdown",
   "id": "85aadc98-5562-4b59-a198-81666f2c3778",
   "metadata": {},
   "source": [
    "# H1 : Data Science Tools and Ecosystem"
   ]
  },
  {
   "cell_type": "markdown",
   "id": "3f0803fb-8e0e-4b73-803e-faa758b7812e",
   "metadata": {},
   "source": [
    "##### In this notebook, Data Science Tools and Ecosystem are summarized."
   ]
  },
  {
   "cell_type": "markdown",
   "id": "21b4360d-f6b5-46bb-aaa8-07ac02dfa857",
   "metadata": {
    "tags": []
   },
   "source": [
    "##### Some of the popular languages that Data Scientists use are:\n",
    "1. Python\n",
    "2. R\n",
    "3. SQL\n",
    "4. Scala\n",
    "5. Java\n",
    "6. C++\n",
    "7. Julia"
   ]
  },
  {
   "cell_type": "markdown",
   "id": "2ffa5378-8dd9-44bb-bb7a-36b5386790b6",
   "metadata": {},
   "source": [
    "##### Some of the commonly used libraries used by Data Scientists include:\n",
    "1. Pandas\n",
    "2. Scikit-learn\n",
    "3. Keras\n",
    "4. TensorFlow\n",
    "5. PyTorch\n",
    "\n"
   ]
  },
  {
   "cell_type": "markdown",
   "id": "5c0f447f-623c-4f80-bcc6-8df078fd55c9",
   "metadata": {},
   "source": [
    "#####\n",
    "|Data Science Tools|\n",
    "|------------------|\n",
    "|MySQL|\n",
    "|Jupyter Notebooks|\n",
    "|RStudio|"
   ]
  },
  {
   "cell_type": "markdown",
   "id": "27a280a2-d77e-471d-9977-20d8531c8f8c",
   "metadata": {},
   "source": [
    "### Below are a few examples of evaluating arithmetic expressions in Python"
   ]
  },
  {
   "cell_type": "code",
   "execution_count": 2,
   "id": "6bcb49ba-83cd-4785-8fa1-172e9d30c9f3",
   "metadata": {
    "tags": []
   },
   "outputs": [
    {
     "data": {
      "text/plain": [
       "17"
      ]
     },
     "execution_count": 2,
     "metadata": {},
     "output_type": "execute_result"
    }
   ],
   "source": [
    "# This a simple arithmetic expression to mutiply then add integers\n",
    "(3*4)+5"
   ]
  },
  {
   "cell_type": "code",
   "execution_count": 3,
   "id": "170b7248-8f63-4454-9855-bce795300f13",
   "metadata": {
    "tags": []
   },
   "outputs": [
    {
     "data": {
      "text/plain": [
       "3.3333333333333335"
      ]
     },
     "execution_count": 3,
     "metadata": {},
     "output_type": "execute_result"
    }
   ],
   "source": [
    "# This will convert 200 minutes to hours by diving by 60\n",
    "200/60"
   ]
  },
  {
   "cell_type": "markdown",
   "id": "15974d14-375d-4519-b53e-c33c7b57db6b",
   "metadata": {},
   "source": [
    "**Objectives:**\n",
    "##### List popular languages for Data Science\n",
    "* Python\n",
    "* R\n",
    "* SQL\n",
    "* Scala\n",
    "* Java\n",
    "* C++\n",
    "* Julia"
   ]
  },
  {
   "cell_type": "markdown",
   "id": "2816cfa0-7b98-4de3-a38b-e80e2b03ff6d",
   "metadata": {},
   "source": [
    "## Author\n",
    "##### Reny Rian Marliana"
   ]
  },
  {
   "cell_type": "code",
   "execution_count": null,
   "id": "496cf613-fb29-495e-b5eb-f5c10c577742",
   "metadata": {},
   "outputs": [],
   "source": []
  }
 ],
 "metadata": {
  "kernelspec": {
   "display_name": "Python",
   "language": "python",
   "name": "conda-env-python-py"
  },
  "language_info": {
   "codemirror_mode": {
    "name": "ipython",
    "version": 3
   },
   "file_extension": ".py",
   "mimetype": "text/x-python",
   "name": "python",
   "nbconvert_exporter": "python",
   "pygments_lexer": "ipython3",
   "version": "3.7.12"
  }
 },
 "nbformat": 4,
 "nbformat_minor": 5
}
